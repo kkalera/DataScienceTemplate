{
 "cells": [
  {
   "cell_type": "markdown",
   "metadata": {},
   "source": [
    "# Project Name\n",
    "\n",
    "TODO: Provide an introduction / description about the project\n",
    "\n",
    "&nbsp;\n",
    "\n",
    "**Objectives**\n",
    "\n",
    "TODO: Provide the objective / goal of the project\n",
    "\n",
    "&nbsp;\n",
    "\n",
    "**Table of Contents**\n",
    "\n",
    "TODO: Put in a table of contents\n",
    "\n",
    "\n",
    "&nbsp;\n",
    "\n",
    "&nbsp;"
   ]
  },
  {
   "cell_type": "markdown",
   "metadata": {},
   "source": [
    "\n",
    "---\n",
    "\n",
    "## Setup\n",
    "\n",
    "This section contains the installation of required packages, importing them into the project and initial setup."
   ]
  },
  {
   "cell_type": "markdown",
   "metadata": {},
   "source": [
    "### Installation and Imports"
   ]
  },
  {
   "cell_type": "code",
   "execution_count": null,
   "metadata": {},
   "outputs": [],
   "source": [
    "%pip install --upgrade pip\n",
    "%pip install -q -r requirements.txt"
   ]
  },
  {
   "cell_type": "code",
   "execution_count": null,
   "metadata": {},
   "outputs": [],
   "source": [
    "# Do the imports you need here\n",
    "import pandas as pd\n",
    "import logging"
   ]
  },
  {
   "cell_type": "markdown",
   "metadata": {},
   "source": [
    "### Initial Setup"
   ]
  },
  {
   "cell_type": "code",
   "execution_count": null,
   "metadata": {},
   "outputs": [],
   "source": [
    "%config InlineBackend.figure_format = 'svg'\n",
    "\n",
    "# Create and configure logger\n",
    "logger = logging.getLogger()\n",
    "logger.setLevel(logging.INFO)\n",
    "\n",
    "formatter = logging.Formatter('%(asctime)s - %(name)s - %(levelname)s - %(message)s')\n",
    "\n",
    "file_handler = logging.FileHandler('my.log')\n",
    "file_handler.setLevel(logging.INFO)\n",
    "file_handler.setFormatter(formatter)\n",
    "\n",
    "stream_handler = logging.StreamHandler()\n",
    "stream_handler.setLevel(logging.INFO)\n",
    "stream_handler.setFormatter(formatter)\n",
    "\n",
    "logger.addHandler(file_handler)\n",
    "logger.addHandler(stream_handler)"
   ]
  },
  {
   "cell_type": "markdown",
   "metadata": {},
   "source": [
    "&nbsp;\n",
    "\n",
    "&nbsp;\n",
    "\n",
    "---\n",
    "\n",
    "## Data Loading and Exploration\n",
    "\n",
    "This section describes the loading of the data and a first exploration.\n",
    "\n",
    "&nbsp;"
   ]
  },
  {
   "cell_type": "markdown",
   "metadata": {},
   "source": [
    "### Data Loading\n",
    "\n",
    "Now that everything is installed and imported, let's get started by loading the data into a DataFrame"
   ]
  },
  {
   "cell_type": "code",
   "execution_count": null,
   "metadata": {},
   "outputs": [],
   "source": [
    "#TODO: Load your data here"
   ]
  },
  {
   "cell_type": "markdown",
   "metadata": {},
   "source": [
    "&nbsp;\n",
    "\n",
    "### First Exploration\n",
    "\n",
    "Let's explore the data a little bit to see what we're working with here."
   ]
  },
  {
   "cell_type": "code",
   "execution_count": null,
   "metadata": {},
   "outputs": [],
   "source": [
    "# TODO: Explore your data here. I usually do a head, info and describe command."
   ]
  },
  {
   "cell_type": "markdown",
   "metadata": {},
   "source": [
    "&nbsp;\n",
    "\n",
    "**Observations**\n",
    "\n",
    "TODO: Write your observations about the first exploration"
   ]
  },
  {
   "cell_type": "markdown",
   "metadata": {},
   "source": [
    "&nbsp;\n",
    "\n",
    "### Data Cleaning\n",
    "\n",
    "TODO: Write about what you'll do if data cleaning is necessary.\n"
   ]
  },
  {
   "cell_type": "code",
   "execution_count": 3,
   "metadata": {},
   "outputs": [],
   "source": [
    "#TODO: Do any data cleaning you need here"
   ]
  },
  {
   "cell_type": "markdown",
   "metadata": {},
   "source": [
    "&nbsp;\n",
    "\n",
    "---\n",
    "\n",
    "## EDA: Exploratory Data Analysis\n",
    "\n",
    "This section contains the exploratory data analysis part of the project.\n",
    "\n",
    "&nbsp;"
   ]
  },
  {
   "cell_type": "markdown",
   "metadata": {},
   "source": [
    "### Univariate Exploration\n",
    "\n",
    "Let's start off by exploring each feature of the dataset separately."
   ]
  },
  {
   "cell_type": "code",
   "execution_count": 2,
   "metadata": {},
   "outputs": [],
   "source": [
    "#TODO: Do your univariate analysis here. I usually use histograms, scatterplots, boxplots and bar charts."
   ]
  },
  {
   "cell_type": "markdown",
   "metadata": {},
   "source": [
    "**Observations**\n",
    "\n",
    "TODO: Write about what you observe in the plot above. Repeat these two cells for every feature you'd like to investigate.\n",
    "\n",
    "&nbsp;\n",
    "\n",
    "&nbsp;"
   ]
  },
  {
   "cell_type": "markdown",
   "metadata": {},
   "source": [
    "### Multivariate Exploration\n",
    "\n",
    "Now that we have a better understanding of every feature, let's take a look at how these features relate to each other."
   ]
  },
  {
   "cell_type": "code",
   "execution_count": null,
   "metadata": {},
   "outputs": [],
   "source": [
    "#TODO: Do your multivariate analysis here. I usually use histograms, scatterplots, boxplots and bar charts."
   ]
  },
  {
   "cell_type": "markdown",
   "metadata": {},
   "source": [
    "**Observations**\n",
    "\n",
    "TODO: Write about what you observe in the plot above. Repeat these two cells for every feature you'd like to investigate.\n",
    "\n",
    "&nbsp;\n",
    "\n",
    "&nbsp;"
   ]
  },
  {
   "cell_type": "markdown",
   "metadata": {},
   "source": [
    "### Correlations\n",
    "\n",
    "Let's check out how our features correlate with each other."
   ]
  },
  {
   "cell_type": "code",
   "execution_count": null,
   "metadata": {},
   "outputs": [],
   "source": [
    "#TODO: Check correlations here. I usually use a heatmap."
   ]
  },
  {
   "cell_type": "markdown",
   "metadata": {},
   "source": [
    "&nbsp;\n",
    "\n",
    "**Thresholds**\n",
    "\n",
    "TODO: Change the values below as you see fit or to your preference\n",
    "\n",
    "<table style='font-size:80%;'>\n",
    "<tr><td>Very strong negative correlation:</td><td> between -1.00 and -0.81</td></tr>\n",
    "<tr><td>Strong negative correlation:</td><td> between -0.80 and -0.61</td></tr>\n",
    "<tr><td>Moderate negative correlation:</td><td> between -0.60 and -0.31</td></tr>\n",
    "<tr><td>Weak negative correlation:</td><td> between -0.30 and -0.11</td></tr>\n",
    "<tr><td>No significant correlation:</td><td> between -0.10 and 0.10</td></tr>\n",
    "<tr><td>Weak positive correlation:</td><td> between 0.11 and 0.30</td></tr>\n",
    "<tr><td>Moderate positive correlation:</td><td> between 0.31 and 0.60</td></tr>\n",
    "<tr><td>Strong positive correlation:</td><td> between 0.61 and 0.80</td></tr>\n",
    "<tr><td>Very strong positive correlation:</td><td> between 0.81 and 1.00</td></tr>\n",
    "</table>\n",
    "\n",
    "&nbsp;\n",
    "\n",
    "**Observations**\n",
    "\n",
    "TODO: Write about what you observe in the correlations\n"
   ]
  },
  {
   "cell_type": "markdown",
   "metadata": {},
   "source": [
    "&nbsp;\n",
    "\n",
    "&nbsp;\n",
    "\n",
    "---\n",
    "\n",
    "## Statistical Analysis\n",
    "\n",
    "Let's continue with the statistical analysis part of the project."
   ]
  },
  {
   "cell_type": "markdown",
   "metadata": {},
   "source": [
    "&nbsp;\n",
    "\n",
    "### Hypothesis 1 (repeat this section for every hypothesis / population you want to test)\n",
    "\n",
    "**Target Population**\n",
    "\n",
    "TODO: Describe the target population\n",
    "\n",
    "&nbsp;\n",
    "\n",
    "**Hypothesis**\n",
    "\n",
    "TODO: Describe the null and alternative hypothesis\n",
    "\n",
    "&nbsp;\n",
    "\n",
    "**Significance Level**\n",
    "\n",
    "TODO: Set the significance level\n",
    "\n",
    "&nbsp;\n",
    "\n",
    "**Assumptions**\n",
    "\n",
    "TODO: Describe the assumptions you're making about the population\n",
    "\n",
    "&nbsp;\n",
    "\n",
    "**Test Choice**\n",
    "\n",
    "TODO: Describe the test you chose, and why it is a good fit for the data you're working with"
   ]
  },
  {
   "cell_type": "code",
   "execution_count": 4,
   "metadata": {},
   "outputs": [],
   "source": [
    "#TODO: Do your statistical testing here. I usually use a t-test."
   ]
  },
  {
   "cell_type": "markdown",
   "metadata": {},
   "source": [
    "&nbsp;\n",
    "\n",
    "**Observations**\n",
    "\n",
    "TODO: Describe the results of the test"
   ]
  },
  {
   "cell_type": "markdown",
   "metadata": {},
   "source": [
    "&nbsp;\n",
    "\n",
    "&nbsp;\n",
    "\n",
    "---\n",
    "\n",
    "## Machine Learning"
   ]
  },
  {
   "cell_type": "markdown",
   "metadata": {},
   "source": [
    "TODO: Repeat this section for each prediction goal you have set\n",
    "\n",
    "### Data Loading\n",
    "\n",
    "Let's load the data that we'll be using as input for our model."
   ]
  },
  {
   "cell_type": "code",
   "execution_count": null,
   "metadata": {},
   "outputs": [],
   "source": [
    "# TODO: Load your input data here"
   ]
  },
  {
   "cell_type": "markdown",
   "metadata": {},
   "source": [
    "### Data Preparation\n",
    "\n",
    "Let's prepare the data for use in the model."
   ]
  },
  {
   "cell_type": "markdown",
   "metadata": {},
   "source": [
    "#### Multi-Collinearity\n",
    "\n",
    "TODO: Address multi-collinearity if strong correlations were found during the EDA"
   ]
  },
  {
   "cell_type": "code",
   "execution_count": null,
   "metadata": {},
   "outputs": [],
   "source": [
    "#TODO: Address multicollinearity here.  "
   ]
  },
  {
   "cell_type": "markdown",
   "metadata": {},
   "source": [
    "&nbsp;\n",
    "\n",
    "#### Encoding\n",
    "\n",
    "Let's encode the categorical values."
   ]
  },
  {
   "cell_type": "code",
   "execution_count": 5,
   "metadata": {},
   "outputs": [],
   "source": [
    "#TODO: Do encoding here."
   ]
  },
  {
   "cell_type": "markdown",
   "metadata": {},
   "source": [
    "&nbsp;\n",
    "\n",
    "#### Standard Scaling\n",
    "\n",
    "Now that all features are numerical, let's scale them to a standard deviation of 1 and a mean of 0."
   ]
  },
  {
   "cell_type": "code",
   "execution_count": null,
   "metadata": {},
   "outputs": [],
   "source": [
    "#TODO: Do standard scaling here"
   ]
  },
  {
   "cell_type": "markdown",
   "metadata": {},
   "source": [
    "&nbsp;\n",
    "\n",
    "#### Normalization\n",
    "\n",
    "Let's normalize the data so that the data has a range of 1."
   ]
  },
  {
   "cell_type": "code",
   "execution_count": 6,
   "metadata": {},
   "outputs": [],
   "source": [
    "#TODO: Do normalization here"
   ]
  },
  {
   "cell_type": "markdown",
   "metadata": {},
   "source": [
    "&nbsp;\n",
    "\n",
    "#### Train - Test Split\n",
    "\n",
    "The final step of our data preparation is splitting the data into a training and testing set."
   ]
  },
  {
   "cell_type": "code",
   "execution_count": null,
   "metadata": {},
   "outputs": [],
   "source": [
    "#TODO: Do train test split here"
   ]
  },
  {
   "cell_type": "markdown",
   "metadata": {},
   "source": [
    "&nbsp;\n",
    "\n",
    "&nbsp;\n",
    "\n",
    "---\n",
    "\n",
    "### Model Training and Evaluation\n",
    "\n",
    "This section contains the model training and evaluation section of the project.\n",
    "\n",
    "#### Model Selection\n",
    "\n",
    "TODO: Explain the model(s) you'll be training and why you chose it."
   ]
  },
  {
   "cell_type": "markdown",
   "metadata": {},
   "source": [
    "&nbsp;\n",
    "\n",
    "#### Model 1 (repeat this section for each model you're using)\n",
    "\n",
    "Let's start of by creating a model and looking for the optimal hyperparameters."
   ]
  },
  {
   "cell_type": "code",
   "execution_count": null,
   "metadata": {},
   "outputs": [],
   "source": [
    "#TODO: Create your model and define / explore hyperparameters here"
   ]
  },
  {
   "cell_type": "markdown",
   "metadata": {},
   "source": [
    "**Model Training**\n",
    "\n",
    "Let's train the model with the hyperparameters that we found."
   ]
  },
  {
   "cell_type": "code",
   "execution_count": null,
   "metadata": {},
   "outputs": [],
   "source": [
    "#TODO: fit your model here (think about printing out the metrics you want to use during training)"
   ]
  },
  {
   "cell_type": "markdown",
   "metadata": {},
   "source": [
    "**Model Evaluation**\n",
    "\n",
    "Let's see how the model is performing on the test set."
   ]
  },
  {
   "cell_type": "code",
   "execution_count": 7,
   "metadata": {},
   "outputs": [],
   "source": [
    "#TODO: test and evaluate your model here"
   ]
  },
  {
   "cell_type": "markdown",
   "metadata": {},
   "source": [
    "**Observations**\n",
    "\n",
    "TODO: Write your observations about the model's performance"
   ]
  },
  {
   "cell_type": "markdown",
   "metadata": {},
   "source": [
    "&nbsp;\n",
    "\n",
    "&nbsp;\n",
    "\n",
    "---\n",
    "\n",
    "## Summary\n",
    "\n",
    "TODO: Write a summary about the project"
   ]
  },
  {
   "cell_type": "markdown",
   "metadata": {},
   "source": [
    "&nbsp;\n",
    "\n",
    "&nbsp;\n",
    "\n",
    "---\n",
    "\n",
    "## Improvements\n",
    "\n",
    "TODO: Write improvements that can be made to the project."
   ]
  },
  {
   "cell_type": "markdown",
   "metadata": {},
   "source": []
  }
 ],
 "metadata": {
  "kernelspec": {
   "display_name": "base",
   "language": "python",
   "name": "python3"
  },
  "language_info": {
   "codemirror_mode": {
    "name": "ipython",
    "version": 3
   },
   "file_extension": ".py",
   "mimetype": "text/x-python",
   "name": "python",
   "nbconvert_exporter": "python",
   "pygments_lexer": "ipython3",
   "version": "3.11.5"
  }
 },
 "nbformat": 4,
 "nbformat_minor": 2
}
